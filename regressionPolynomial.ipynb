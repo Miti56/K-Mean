{
 "cells": [
  {
   "cell_type": "code",
   "execution_count": 3,
   "metadata": {
    "collapsed": true
   },
   "outputs": [],
   "source": [
    "import numpy as np\n",
    "import pandas as pd\n",
    "import matplotlib.pyplot as plt\n",
    "from sklearn.preprocessing import PolynomialFeatures\n",
    "from sklearn.linear_model import LinearRegression"
   ]
  },
  {
   "cell_type": "markdown",
   "source": [
    "### TEST CODE:"
   ],
   "metadata": {
    "collapsed": false
   }
  },
  {
   "cell_type": "code",
   "execution_count": 4,
   "outputs": [],
   "source": [
    "main_df = pd.read_csv('/Users/miti/Documents/EXETER/Learning from Data/Coursework/finalDataStudy3.csv', sep=\",\", encoding=\"ISO-8859-1\", header=0)\n",
    "main_df = main_df.iloc[: , 1:]"
   ],
   "metadata": {
    "collapsed": false
   }
  },
  {
   "cell_type": "code",
   "execution_count": 5,
   "outputs": [
    {
     "data": {
      "text/plain": "           CloseUSD  Volume          High           Low          Open  \\\n0        333.879006     0.0   2568.300049   2568.300049   2568.300049   \n1        330.213013     0.0   2540.100098   2540.100098   2540.100098   \n2        331.811987     0.0   2552.399902   2552.399902   2552.399902   \n3        335.906987     0.0   2583.899902   2583.899902   2583.899902   \n4        338.923013     0.0   2607.100098   2607.100098   2607.100098   \n...             ...     ...           ...           ...           ...   \n104219  4625.367578     0.0  66812.453130  66022.976560  66054.921880   \n104220  4627.575859     0.0  66446.367190  66030.351560  66076.679690   \n104221  4685.817500     0.0  66940.250000  66102.546880  66108.226560   \n104222  4728.840157     0.0  67726.562500  66794.609380  66940.250000   \n104223  4757.482734     0.0  68140.851560  67554.859380  67554.859380   \n\n               Close  isRecession  isUpOrDown  \n0        2568.300049          0.0         0.0  \n1        2540.100098          0.0         0.0  \n2        2552.399902          0.0         1.0  \n3        2583.899902          0.0         1.0  \n4        2607.100098          0.0         1.0  \n...              ...          ...         ...  \n104219  66076.679690          0.0         1.0  \n104220  66108.226560          0.0         1.0  \n104221  66940.250000          0.0         1.0  \n104222  67554.859380          0.0         1.0  \n104223  67964.039060          0.0         1.0  \n\n[104224 rows x 8 columns]",
      "text/html": "<div>\n<style scoped>\n    .dataframe tbody tr th:only-of-type {\n        vertical-align: middle;\n    }\n\n    .dataframe tbody tr th {\n        vertical-align: top;\n    }\n\n    .dataframe thead th {\n        text-align: right;\n    }\n</style>\n<table border=\"1\" class=\"dataframe\">\n  <thead>\n    <tr style=\"text-align: right;\">\n      <th></th>\n      <th>CloseUSD</th>\n      <th>Volume</th>\n      <th>High</th>\n      <th>Low</th>\n      <th>Open</th>\n      <th>Close</th>\n      <th>isRecession</th>\n      <th>isUpOrDown</th>\n    </tr>\n  </thead>\n  <tbody>\n    <tr>\n      <th>0</th>\n      <td>333.879006</td>\n      <td>0.0</td>\n      <td>2568.300049</td>\n      <td>2568.300049</td>\n      <td>2568.300049</td>\n      <td>2568.300049</td>\n      <td>0.0</td>\n      <td>0.0</td>\n    </tr>\n    <tr>\n      <th>1</th>\n      <td>330.213013</td>\n      <td>0.0</td>\n      <td>2540.100098</td>\n      <td>2540.100098</td>\n      <td>2540.100098</td>\n      <td>2540.100098</td>\n      <td>0.0</td>\n      <td>0.0</td>\n    </tr>\n    <tr>\n      <th>2</th>\n      <td>331.811987</td>\n      <td>0.0</td>\n      <td>2552.399902</td>\n      <td>2552.399902</td>\n      <td>2552.399902</td>\n      <td>2552.399902</td>\n      <td>0.0</td>\n      <td>1.0</td>\n    </tr>\n    <tr>\n      <th>3</th>\n      <td>335.906987</td>\n      <td>0.0</td>\n      <td>2583.899902</td>\n      <td>2583.899902</td>\n      <td>2583.899902</td>\n      <td>2583.899902</td>\n      <td>0.0</td>\n      <td>1.0</td>\n    </tr>\n    <tr>\n      <th>4</th>\n      <td>338.923013</td>\n      <td>0.0</td>\n      <td>2607.100098</td>\n      <td>2607.100098</td>\n      <td>2607.100098</td>\n      <td>2607.100098</td>\n      <td>0.0</td>\n      <td>1.0</td>\n    </tr>\n    <tr>\n      <th>...</th>\n      <td>...</td>\n      <td>...</td>\n      <td>...</td>\n      <td>...</td>\n      <td>...</td>\n      <td>...</td>\n      <td>...</td>\n      <td>...</td>\n    </tr>\n    <tr>\n      <th>104219</th>\n      <td>4625.367578</td>\n      <td>0.0</td>\n      <td>66812.453130</td>\n      <td>66022.976560</td>\n      <td>66054.921880</td>\n      <td>66076.679690</td>\n      <td>0.0</td>\n      <td>1.0</td>\n    </tr>\n    <tr>\n      <th>104220</th>\n      <td>4627.575859</td>\n      <td>0.0</td>\n      <td>66446.367190</td>\n      <td>66030.351560</td>\n      <td>66076.679690</td>\n      <td>66108.226560</td>\n      <td>0.0</td>\n      <td>1.0</td>\n    </tr>\n    <tr>\n      <th>104221</th>\n      <td>4685.817500</td>\n      <td>0.0</td>\n      <td>66940.250000</td>\n      <td>66102.546880</td>\n      <td>66108.226560</td>\n      <td>66940.250000</td>\n      <td>0.0</td>\n      <td>1.0</td>\n    </tr>\n    <tr>\n      <th>104222</th>\n      <td>4728.840157</td>\n      <td>0.0</td>\n      <td>67726.562500</td>\n      <td>66794.609380</td>\n      <td>66940.250000</td>\n      <td>67554.859380</td>\n      <td>0.0</td>\n      <td>1.0</td>\n    </tr>\n    <tr>\n      <th>104223</th>\n      <td>4757.482734</td>\n      <td>0.0</td>\n      <td>68140.851560</td>\n      <td>67554.859380</td>\n      <td>67554.859380</td>\n      <td>67964.039060</td>\n      <td>0.0</td>\n      <td>1.0</td>\n    </tr>\n  </tbody>\n</table>\n<p>104224 rows × 8 columns</p>\n</div>"
     },
     "execution_count": 5,
     "metadata": {},
     "output_type": "execute_result"
    }
   ],
   "source": [
    "main_df"
   ],
   "metadata": {
    "collapsed": false
   }
  },
  {
   "cell_type": "markdown",
   "source": [
    "STEP #2: Defining the training and the test data\n"
   ],
   "metadata": {
    "collapsed": false
   }
  },
  {
   "cell_type": "code",
   "execution_count": 178,
   "outputs": [],
   "source": [
    "from sklearn.model_selection import train_test_split\n",
    "\n",
    "X, y = main_df[[\"CloseUSD\", \"Close\"]], main_df[\"isRecession\"]\n",
    "poly = PolynomialFeatures(degree=2, include_bias=False)\n",
    "poly_features = poly.fit_transform(X)\n",
    "X_train, X_test, y_train, y_test = train_test_split(poly_features, y, test_size=0.3, random_state=42)"
   ],
   "metadata": {
    "collapsed": false
   }
  },
  {
   "cell_type": "markdown",
   "source": [
    "STEP #3: Creating a polynomial regression model\n"
   ],
   "metadata": {
    "collapsed": false
   }
  },
  {
   "cell_type": "code",
   "execution_count": 179,
   "outputs": [
    {
     "data": {
      "text/plain": "LinearRegression()"
     },
     "execution_count": 179,
     "metadata": {},
     "output_type": "execute_result"
    }
   ],
   "source": [
    "poly_reg_model = LinearRegression()\n",
    "poly_reg_model.fit(X_train, y_train)"
   ],
   "metadata": {
    "collapsed": false
   }
  },
  {
   "cell_type": "markdown",
   "source": [
    "Here’s how we can test how our model performs on previously unseen data:\n"
   ],
   "metadata": {
    "collapsed": false
   }
  },
  {
   "cell_type": "code",
   "execution_count": 180,
   "outputs": [
    {
     "data": {
      "text/plain": "0.21518742727945983"
     },
     "execution_count": 180,
     "metadata": {},
     "output_type": "execute_result"
    }
   ],
   "source": [
    "poly_reg_y_predicted = poly_reg_model.predict(X_test)\n",
    "from sklearn.metrics import mean_squared_error\n",
    "poly_reg_rmse = np.sqrt(mean_squared_error(y_test, poly_reg_y_predicted))\n",
    "poly_reg_rmse"
   ],
   "metadata": {
    "collapsed": false
   }
  },
  {
   "cell_type": "markdown",
   "source": [
    "STEP #4: Creating a linear regression model\n"
   ],
   "metadata": {
    "collapsed": false
   }
  },
  {
   "cell_type": "code",
   "execution_count": 177,
   "outputs": [
    {
     "data": {
      "text/plain": "0.216263959778849"
     },
     "execution_count": 177,
     "metadata": {},
     "output_type": "execute_result"
    }
   ],
   "source": [
    "X_train, X_test, y_train, y_test = train_test_split(X, y, test_size=0.3, random_state=42)\n",
    "lin_reg_model = LinearRegression()\n",
    "lin_reg_model.fit(X_train, y_train)\n",
    "lin_reg_y_predicted = lin_reg_model.predict(X_test)\n",
    "lin_reg_rmse = np.sqrt(mean_squared_error(y_test, lin_reg_y_predicted))\n",
    "lin_reg_rmse"
   ],
   "metadata": {
    "collapsed": false
   }
  }
 ],
 "metadata": {
  "kernelspec": {
   "display_name": "Python 3",
   "language": "python",
   "name": "python3"
  },
  "language_info": {
   "codemirror_mode": {
    "name": "ipython",
    "version": 2
   },
   "file_extension": ".py",
   "mimetype": "text/x-python",
   "name": "python",
   "nbconvert_exporter": "python",
   "pygments_lexer": "ipython2",
   "version": "2.7.6"
  }
 },
 "nbformat": 4,
 "nbformat_minor": 0
}
